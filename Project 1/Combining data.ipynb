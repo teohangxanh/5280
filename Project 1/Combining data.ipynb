{
 "cells": [
  {
   "cell_type": "code",
   "execution_count": 1,
   "outputs": [
    {
     "data": {
      "text/plain": "   attitude.roll  attitude.pitch  attitude.yaw  gravity.x  gravity.y  \\\n0       1.528132       -0.733896      0.696372   0.741895   0.669768   \n1       1.527992       -0.716987      0.677762   0.753099   0.657116   \n2       1.527765       -0.706999      0.670951   0.759611   0.649555   \n3       1.516768       -0.704678      0.675735   0.760709   0.647788   \n4       1.493941       -0.703918      0.672994   0.760062   0.647210   \n\n   gravity.z  rotationRate.x  rotationRate.y  rotationRate.z  \\\n0  -0.031672        0.316738        0.778180        1.082764   \n1  -0.032255        0.842032        0.424446        0.643574   \n2  -0.032707       -0.138143       -0.040741        0.343563   \n3  -0.041140       -0.025005       -1.048717        0.035860   \n4  -0.058530        0.114253       -0.912890        0.047341   \n\n   userAcceleration.x  userAcceleration.y  userAcceleration.z  weight  height  \\\n0            0.294894           -0.184493            0.377542     102     188   \n1            0.219405            0.035846            0.114866     102     188   \n2            0.010714            0.134701           -0.167808     102     188   \n3           -0.008389            0.136788            0.094958     102     188   \n4            0.199441            0.353996           -0.044299     102     188   \n\n   age  gender  subject target  \n0   46       1        1    dws  \n1   46       1        1    dws  \n2   46       1        1    dws  \n3   46       1        1    dws  \n4   46       1        1    dws  ",
      "text/html": "<div>\n<style scoped>\n    .dataframe tbody tr th:only-of-type {\n        vertical-align: middle;\n    }\n\n    .dataframe tbody tr th {\n        vertical-align: top;\n    }\n\n    .dataframe thead th {\n        text-align: right;\n    }\n</style>\n<table border=\"1\" class=\"dataframe\">\n  <thead>\n    <tr style=\"text-align: right;\">\n      <th></th>\n      <th>attitude.roll</th>\n      <th>attitude.pitch</th>\n      <th>attitude.yaw</th>\n      <th>gravity.x</th>\n      <th>gravity.y</th>\n      <th>gravity.z</th>\n      <th>rotationRate.x</th>\n      <th>rotationRate.y</th>\n      <th>rotationRate.z</th>\n      <th>userAcceleration.x</th>\n      <th>userAcceleration.y</th>\n      <th>userAcceleration.z</th>\n      <th>weight</th>\n      <th>height</th>\n      <th>age</th>\n      <th>gender</th>\n      <th>subject</th>\n      <th>target</th>\n    </tr>\n  </thead>\n  <tbody>\n    <tr>\n      <th>0</th>\n      <td>1.528132</td>\n      <td>-0.733896</td>\n      <td>0.696372</td>\n      <td>0.741895</td>\n      <td>0.669768</td>\n      <td>-0.031672</td>\n      <td>0.316738</td>\n      <td>0.778180</td>\n      <td>1.082764</td>\n      <td>0.294894</td>\n      <td>-0.184493</td>\n      <td>0.377542</td>\n      <td>102</td>\n      <td>188</td>\n      <td>46</td>\n      <td>1</td>\n      <td>1</td>\n      <td>dws</td>\n    </tr>\n    <tr>\n      <th>1</th>\n      <td>1.527992</td>\n      <td>-0.716987</td>\n      <td>0.677762</td>\n      <td>0.753099</td>\n      <td>0.657116</td>\n      <td>-0.032255</td>\n      <td>0.842032</td>\n      <td>0.424446</td>\n      <td>0.643574</td>\n      <td>0.219405</td>\n      <td>0.035846</td>\n      <td>0.114866</td>\n      <td>102</td>\n      <td>188</td>\n      <td>46</td>\n      <td>1</td>\n      <td>1</td>\n      <td>dws</td>\n    </tr>\n    <tr>\n      <th>2</th>\n      <td>1.527765</td>\n      <td>-0.706999</td>\n      <td>0.670951</td>\n      <td>0.759611</td>\n      <td>0.649555</td>\n      <td>-0.032707</td>\n      <td>-0.138143</td>\n      <td>-0.040741</td>\n      <td>0.343563</td>\n      <td>0.010714</td>\n      <td>0.134701</td>\n      <td>-0.167808</td>\n      <td>102</td>\n      <td>188</td>\n      <td>46</td>\n      <td>1</td>\n      <td>1</td>\n      <td>dws</td>\n    </tr>\n    <tr>\n      <th>3</th>\n      <td>1.516768</td>\n      <td>-0.704678</td>\n      <td>0.675735</td>\n      <td>0.760709</td>\n      <td>0.647788</td>\n      <td>-0.041140</td>\n      <td>-0.025005</td>\n      <td>-1.048717</td>\n      <td>0.035860</td>\n      <td>-0.008389</td>\n      <td>0.136788</td>\n      <td>0.094958</td>\n      <td>102</td>\n      <td>188</td>\n      <td>46</td>\n      <td>1</td>\n      <td>1</td>\n      <td>dws</td>\n    </tr>\n    <tr>\n      <th>4</th>\n      <td>1.493941</td>\n      <td>-0.703918</td>\n      <td>0.672994</td>\n      <td>0.760062</td>\n      <td>0.647210</td>\n      <td>-0.058530</td>\n      <td>0.114253</td>\n      <td>-0.912890</td>\n      <td>0.047341</td>\n      <td>0.199441</td>\n      <td>0.353996</td>\n      <td>-0.044299</td>\n      <td>102</td>\n      <td>188</td>\n      <td>46</td>\n      <td>1</td>\n      <td>1</td>\n      <td>dws</td>\n    </tr>\n  </tbody>\n</table>\n</div>"
     },
     "execution_count": 1,
     "metadata": {},
     "output_type": "execute_result"
    }
   ],
   "source": [
    "import os\n",
    "import re\n",
    "from pathlib import Path as p\n",
    "import pandas as pd\n",
    "\n",
    "\n",
    "class DataModule:\n",
    "    def __init__(self, data_path, activities):\n",
    "        self.data_path = data_path\n",
    "        self.activities = activities\n",
    "        self.df = pd.DataFrame()\n",
    "\n",
    "    def combine_data(self):\n",
    "        '''This combines all datasets'''\n",
    "        subject_data = pd.read_csv(p(self.data_path) / 'data_subjects_info.csv')\n",
    "        for curr, sub_folders, files in os.walk(self.data_path):\n",
    "            if not sub_folders:\n",
    "                # Extract activity from the folder title\n",
    "                activity = p(curr).stem[:3]\n",
    "                for file in files:\n",
    "                    subject_id = int(re.search(r\"\\d+\", file).group())\n",
    "                    act_path = p(curr) / file\n",
    "                    activity_data = pd.read_csv(act_path, encoding_errors='ignore')\n",
    "                    # Store all information of subject of which code matches subject_id\n",
    "                    added_subject_data = subject_data.loc[subject_data['code'] == int(subject_id), 'weight':]\n",
    "                    # Repeat the added_subject_data by the number of the length of activity_data as they come from the same subject\n",
    "                    added_subject_data = pd.concat([added_subject_data] * len(activity_data), ignore_index=True)\n",
    "                    added_data = pd.concat([activity_data, added_subject_data], axis=1)\n",
    "                    # Add the columns\n",
    "                    added_data['subject'] = subject_id\n",
    "                    added_data['target'] = activity\n",
    "                    self.df = pd.concat([self.df, added_data])\n",
    "        # Drop redundant columns\n",
    "        self.df.drop(columns=['Unnamed: 0'], inplace=True)\n",
    "\n",
    "\n",
    "data_path = './Data/Raw'\n",
    "activities = 'dws jog sit std ups wlk'.split()\n",
    "data_module = DataModule(data_path, activities)\n",
    "data_module.combine_data()\n",
    "df = data_module.df\n",
    "df.head()"
   ],
   "metadata": {
    "collapsed": false
   }
  },
  {
   "cell_type": "code",
   "execution_count": 2,
   "outputs": [],
   "source": [
    "# Creates a column BMI from weight and height\n",
    "df['bmi'] = df['weight'] / ((df['height']/100) ** 2)\n",
    "df_no_hw = df.drop(columns=['height', 'weight'])\n",
    "# Separates the dataset into accelerometer and gyroscope\n",
    "accelerometer = df_no_hw.drop(\n",
    "    columns=['attitude.roll', 'attitude.pitch', 'attitude.yaw', 'rotationRate.x', 'rotationRate.y', 'rotationRate.z', ])\n",
    "gyroscope = df_no_hw.drop(\n",
    "    columns=['userAcceleration.x', 'userAcceleration.y', 'userAcceleration.z', 'gravity.x', 'gravity.y',\n",
    "             'gravity.z', ], )"
   ],
   "metadata": {
    "collapsed": false
   }
  },
  {
   "cell_type": "code",
   "execution_count": 3,
   "outputs": [],
   "source": [
    "# Only activity columns have missing values\n",
    "# df_no_hw.isna().sum()"
   ],
   "metadata": {
    "collapsed": false
   }
  },
  {
   "cell_type": "code",
   "execution_count": 4,
   "outputs": [],
   "source": [
    "# Save the combined data\n",
    "df.to_parquet('./Data/Engineered/df.parquet', engine='fastparquet', compression='gzip')\n",
    "df_no_hw.to_parquet('./Data/Engineered/combined_df_no_hw.parquet', engine='fastparquet', compression='gzip')\n",
    "accelerometer.to_parquet('./Data/Engineered/combined_accelerometer.parquet', engine='fastparquet', compression='gzip')\n",
    "gyroscope.to_parquet('./Data/Engineered/combined_gyroscope.parquet', engine='fastparquet', compression='gzip')"
   ],
   "metadata": {
    "collapsed": false
   }
  }
 ],
 "metadata": {
  "kernelspec": {
   "display_name": "Python 3.9.13 64-bit (microsoft store)",
   "language": "python",
   "name": "python3"
  },
  "language_info": {
   "codemirror_mode": {
    "name": "ipython",
    "version": 3
   },
   "file_extension": ".py",
   "mimetype": "text/x-python",
   "name": "python",
   "nbconvert_exporter": "python",
   "pygments_lexer": "ipython3",
   "version": "3.9.13"
  },
  "orig_nbformat": 4,
  "vscode": {
   "interpreter": {
    "hash": "536acbdfb2790301517951ac5b06e7ca0b0f120b5308b8f1e0393be071335d83"
   }
  }
 },
 "nbformat": 4,
 "nbformat_minor": 2
}
