{
 "cells": [
  {
   "cell_type": "code",
   "execution_count": 1,
   "metadata": {
    "executionInfo": {
     "elapsed": 1719,
     "status": "ok",
     "timestamp": 1663780256890,
     "user": {
      "displayName": "Ted Dang",
      "userId": "07278023630729325471"
     },
     "user_tz": 360
    },
    "id": "m7YMdreuCRHy"
   },
   "outputs": [],
   "source": [
    "import pickle\n",
    "from pathlib import Path\n",
    "import pandas as pd\n",
    "import numpy as np\n",
    "from collections import namedtuple\n",
    "from sklearn.metrics import confusion_matrix, accuracy_score\n",
    "from sklearn.ensemble import VotingClassifier\n",
    "from sklearn.svm import SVC\n",
    "from sklearn.tree import DecisionTreeClassifier\n",
    "from sklearn.linear_model import SGDClassifier\n",
    "from sklearn.model_selection import RepeatedStratifiedKFold\n",
    "from sklearn.pipeline import Pipeline\n",
    "from sklearn.preprocessing import OneHotEncoder, StandardScaler\n",
    "from sklearn.impute import KNNImputer, SimpleImputer\n",
    "from sklearn.compose import ColumnTransformer"
   ]
  },
  {
   "cell_type": "markdown",
   "source": [
    "### Pipeline + nested cross validation + Voting classification"
   ],
   "metadata": {
    "collapsed": false
   }
  },
  {
   "cell_type": "code",
   "execution_count": 2,
   "metadata": {
    "executionInfo": {
     "elapsed": 7,
     "status": "ok",
     "timestamp": 1663780257501,
     "user": {
      "displayName": "Ted Dang",
      "userId": "07278023630729325471"
     },
     "user_tz": 360
    },
    "id": "o5P14G0FCiv-"
   },
   "outputs": [],
   "source": [
    "TEST_SIZE = 0.05\n",
    "Result = namedtuple('Result', ['confusion_matrix', 'accuracy', 'model'])\n",
    "\n",
    "\n",
    "def predict(X, y, models, results=None, save_model=True):\n",
    "    \"\"\"Split X and y to trains and test datasets.\n",
    "      Fit and save the model(with parameters) to the local machine\n",
    "      Args:\n",
    "          X (numpy or Dataframe): Independent dataset.\n",
    "          y (numpy or Dataframe): Dependent dataset.\n",
    "          models: a list of classifiers to be combined to a voting classifier\n",
    "          test_size: Ratio of test set against the whole dataset.\n",
    "    \"\"\"\n",
    "    if not results:\n",
    "        results = []\n",
    "    # Nested cross validation\n",
    "    rskf = RepeatedStratifiedKFold(n_splits=5, n_repeats=5)\n",
    "    # Create a voter classifier object out of prebuilt ones\n",
    "    vt_classifier = VotingClassifier(estimators=[(model.__class__.__name__, model) for model in models], voting='hard')\n",
    "    numerical_features = X.select_dtypes(include=np.number).columns.tolist()\n",
    "    categorical_features = X.select_dtypes(exclude=np.number).columns.tolist()\n",
    "    # We create two small pipelines for both numeric and categorical features:\n",
    "    numeric_pipeline = Pipeline(steps=[\n",
    "        ('impute', KNNImputer()),\n",
    "        ('scale', StandardScaler())\n",
    "    ])\n",
    "\n",
    "    categorical_pipeline = Pipeline(steps=[\n",
    "        ('impute', SimpleImputer(strategy='most_frequent')),\n",
    "        ('one-hot', OneHotEncoder(handle_unknown='ignore', sparse=False))\n",
    "    ])\n",
    "\n",
    "    full_processor = ColumnTransformer(transformers=[\n",
    "        ('number', numeric_pipeline, numerical_features),\n",
    "        ('category', categorical_pipeline, categorical_features)\n",
    "    ])\n",
    "    for train_index, test_index in rskf.split(X, y):\n",
    "        X_train, X_test = X.iloc[train_index], X.iloc[test_index]\n",
    "        y_train, y_test = y.iloc[train_index], y.iloc[test_index]\n",
    "        vt_pipeline = Pipeline(steps=[\n",
    "            ('preprocess', full_processor),\n",
    "            ('model', vt_classifier)\n",
    "        ])\n",
    "        vt_pipeline.fit(X_train, y_train)\n",
    "        y_pred = vt_pipeline.predict(X_test)\n",
    "        conf = confusion_matrix(y_test, y_pred, labels=y_test.unique(), normalize='true')\n",
    "        acc = accuracy_score(y_pred, y_test)\n",
    "        results.append(Result(conf, acc, vt_classifier))\n",
    "        # Save the results\n",
    "        if save_model:\n",
    "            with open('results.pkl', 'wb') as f:\n",
    "                pickle.dump(results, f)\n",
    "\n",
    "\n",
    "sampling_fraction = 0.1\n",
    "classifiers = [SVC(), DecisionTreeClassifier(), SGDClassifier()]\n",
    "data_path = \"D:\\BitBucket/5280\\Project\\Data\\Engineered\"\n",
    "df = pd.read_parquet(Path(data_path) / 'combined_df_no_hw.parquet')\n",
    "# Stratified sampling\n",
    "df = df.groupby('target', group_keys=False).apply(lambda x: x.sample(frac=sampling_fraction))\n",
    "y = df['target']\n",
    "X = df.drop(columns=['target'])\n",
    "# predict(X, y, classifiers)"
   ]
  }
 ],
 "metadata": {
  "colab": {
   "collapsed_sections": [],
   "provenance": [],
   "authorship_tag": "ABX9TyOCNS4jdlM5jXPVO9wHIbZu"
  },
  "kernelspec": {
   "display_name": "Python 3",
   "name": "python3"
  },
  "language_info": {
   "name": "python"
  }
 },
 "nbformat": 4,
 "nbformat_minor": 0
}
